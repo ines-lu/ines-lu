{
 "cells": [
  {
   "attachments": {},
   "cell_type": "markdown",
   "metadata": {},
   "source": [
    "## Caesar Cipher - Encrypted fun fact about me:)"
   ]
  },
  {
   "attachments": {},
   "cell_type": "markdown",
   "metadata": {},
   "source": [
    "The Caesar Cipher is an encryption method that replaces each letter in a text by another letter which is specified by a given shift in the alphabet. The shift determines how many letters in the alphabet one should go ahead to find the replacement."
   ]
  },
  {
   "cell_type": "code",
   "execution_count": 4,
   "metadata": {},
   "outputs": [
    {
     "name": "stdout",
     "output_type": "stream",
     "text": [
      "mzyuzfc, t'x typd wf, l elwpyepo rcloflep wzzvtyr qzc l olel lylwjde tyepcydsta. awpldp nzyelne xp tq jzf lcp tyepcpdepo ty xj aczqtwp!\n"
     ]
    }
   ],
   "source": [
    "# 1.Save the encrypted string\n",
    "secret_message = \"\"\"Mzyuzfc, T'x Typd WF, L elwpyepo rcloflep wzzvtyr qzc l olel lylwjde tyepcydsta. Awpldp nzyelne xp tq jzf lcp tyepcpdepo ty xj aczqtwp!\"\"\".lower()\n",
    "print(secret_message)"
   ]
  },
  {
   "cell_type": "code",
   "execution_count": 5,
   "metadata": {},
   "outputs": [
    {
     "name": "stdout",
     "output_type": "stream",
     "text": [
      "The most frequent character: p\n"
     ]
    }
   ],
   "source": [
    "# 2.count how often each letter appears\n",
    "ch_dic = {}\n",
    "\n",
    "for ch in secret_message:\n",
    "    if ch in ch_dic.keys():     \n",
    "        ch_dic[ch] = ch_dic[ch] + 1\n",
    "    else:\n",
    "        ch_dic[ch] = 1\n",
    "del ch_dic [\" \"]\n",
    "\n",
    "ch_maxrep = \"\"\n",
    "maxvalue_rep = 0\n",
    "\n",
    "for c in ch_dic:\n",
    "    if ch_dic[c] > maxvalue_rep:\n",
    "        maxvalue_rep = ch_dic[c]\n",
    "        ch_maxrep = c\n",
    "\n",
    "print(\"The most frequent character:\", ch_maxrep)"
   ]
  },
  {
   "cell_type": "code",
   "execution_count": 6,
   "metadata": {},
   "outputs": [
    {
     "name": "stdout",
     "output_type": "stream",
     "text": [
      "11\n"
     ]
    }
   ],
   "source": [
    "# 3.Find the most common letter and calculate the shift\n",
    "shift = ord(\"p\") - ord(\"e\")\n",
    "print(shift)"
   ]
  },
  {
   "cell_type": "code",
   "execution_count": 7,
   "metadata": {},
   "outputs": [
    {
     "name": "stdout",
     "output_type": "stream",
     "text": [
      "bonjour, i'm ines lu, a talented graduate looking for a data analyst internship. please contact me if you are interested in my profile!\n"
     ]
    }
   ],
   "source": [
    "# 4.write a program to decrypt the secret message\n",
    "\n",
    "decripted_message = \"\"\n",
    "\n",
    "for ch in secret_message:\n",
    "    if (ord(ch) >= 97 + shift) and (ord(ch) <= 122):\n",
    "        ch_1 = chr( ord(ch) - shift )\n",
    "        decripted_message = decripted_message + ch_1\n",
    "    elif (ord(ch) >= 97) and (ord(ch) <= 97 + shift):\n",
    "        ch_1 = chr( ord(ch) + 26 - shift )\n",
    "        decripted_message = decripted_message + ch_1\n",
    "    else:\n",
    "        decripted_message = decripted_message + ch\n",
    "\n",
    "print(decripted_message)"
   ]
  },
  {
   "attachments": {},
   "cell_type": "markdown",
   "metadata": {},
   "source": [
    "## *Bonjour, I'm Ines LU, a talented graduate looking for a data analyst internship. Please contact me if you are interested in my profile!*"
   ]
  }
 ],
 "metadata": {
  "kernelspec": {
   "display_name": "base",
   "language": "python",
   "name": "python3"
  },
  "language_info": {
   "codemirror_mode": {
    "name": "ipython",
    "version": 3
   },
   "file_extension": ".py",
   "mimetype": "text/x-python",
   "name": "python",
   "nbconvert_exporter": "python",
   "pygments_lexer": "ipython3",
   "version": "3.9.12"
  },
  "vscode": {
   "interpreter": {
    "hash": "8d4e63f1bd948baef4bc278445c31d443b4c6d00105819e06ca43613e036dceb"
   }
  }
 },
 "nbformat": 4,
 "nbformat_minor": 2
}
